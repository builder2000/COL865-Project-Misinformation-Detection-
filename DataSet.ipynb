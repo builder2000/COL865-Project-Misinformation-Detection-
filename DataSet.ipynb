{
 "cells": [
  {
   "cell_type": "code",
   "execution_count": 79,
   "metadata": {},
   "outputs": [],
   "source": [
    "import numpy as np\n",
    "import pandas as pd\n",
    "import scipy\n",
    "from sklearn.feature_extraction.text import TfidfVectorizer, CountVectorizer\n",
    "from sklearn.pipeline import Pipeline\n",
    "from sklearn.decomposition import PCA\n",
    "from gensim.models.doc2vec import TaggedDocument, Doc2Vec\n",
    "from sklearn.base import BaseEstimator, TransformerMixin\n",
    "from sklearn.linear_model import LogisticRegression\n",
    "from sklearn.model_selection import train_test_split\n",
    "from gensim.parsing.preprocessing import preprocess_string\n",
    "import gensim.parsing.preprocessing as gsp\n",
    "from sklearn import utils as skutils\n",
    "from gensim import utils\n",
    "from tqdm import tqdm\n",
    "import multiprocessing\n",
    "import nltk\n",
    "import re\n",
    "from collections import Counter, defaultdict\n",
    "from nltk.corpus import stopwords\n"
   ]
  },
  {
   "cell_type": "code",
   "execution_count": 80,
   "metadata": {},
   "outputs": [],
   "source": [
    "Train_csv = \"/Users/sanjayplal/Downloads/drive-download-20220306T114150Z-001/Constraint_English_Train - Sheet1.csv\"\n",
    "Test_csv = \"/Users/sanjayplal/Downloads/drive-download-20220306T114150Z-001/english_test_with_labels - Sheet1.csv\"\n",
    "Val_csv = \"/Users/sanjayplal/Downloads/drive-download-20220306T114150Z-001/Constraint_English_Val - Sheet1.csv\""
   ]
  },
  {
   "cell_type": "code",
   "execution_count": 81,
   "metadata": {},
   "outputs": [],
   "source": [
    "df = pd.read_csv(Train_csv)"
   ]
  },
  {
   "cell_type": "code",
   "execution_count": 82,
   "metadata": {},
   "outputs": [],
   "source": [
    "def remove_emojis(data):\n",
    "    emoj = re.compile(\"[\"\n",
    "        u\"\\U0001F600-\\U0001F64F\"  # emoticons\n",
    "        u\"\\U0001F300-\\U0001F5FF\"  # symbols & pictographs\n",
    "        u\"\\U0001F680-\\U0001F6FF\"  # transport & map symbols\n",
    "        u\"\\U0001F1E0-\\U0001F1FF\"  # flags (iOS)\n",
    "        u\"\\U00002500-\\U00002BEF\"  # chinese char\n",
    "        u\"\\U00002702-\\U000027B0\"\n",
    "        u\"\\U00002702-\\U000027B0\"\n",
    "        u\"\\U000024C2-\\U0001F251\"\n",
    "        u\"\\U0001f926-\\U0001f937\"\n",
    "        u\"\\U00010000-\\U0010ffff\"\n",
    "        u\"\\u2640-\\u2642\" \n",
    "        u\"\\u2600-\\u2B55\"\n",
    "        u\"\\u200d\"\n",
    "        u\"\\u23cf\"\n",
    "        u\"\\u23e9\"\n",
    "        u\"\\u231a\"\n",
    "        u\"\\ufe0f\"  # dingbats\n",
    "        u\"\\u3030\"\n",
    "                      \"]+\", re.UNICODE)\n",
    "    return re.sub(emoj, '', data)"
   ]
  },
  {
   "cell_type": "code",
   "execution_count": 83,
   "metadata": {},
   "outputs": [],
   "source": [
    "def clean_text(\n",
    "    string: str, \n",
    "    punctuations=r'''!()-[]{};:'\"\\,<>./?@#$%^&*_~''',\n",
    "    stop_words=[]):\n",
    "    \n",
    "\n",
    "    string = re.sub(r'https?://\\S+|www\\.\\S+', '', string)\n",
    "\n",
    "\n",
    "    string = re.sub(r'<.*?>', '', string)\n",
    "\n",
    "\n",
    "    for x in string.lower(): \n",
    "        if x in punctuations: \n",
    "            string = string.replace(x, \" \") \n",
    "\n",
    "    string = string.lower()\n",
    "\n",
    "\n",
    "    string = ' '.join([word for word in string.split() if word not in stop_words])\n",
    "\n",
    "    string = re.sub(r'\\s+', ' ', string).strip()\n",
    "\n",
    "    return string   "
   ]
  },
  {
   "cell_type": "code",
   "execution_count": 84,
   "metadata": {},
   "outputs": [],
   "source": [
    "filters = [\n",
    "           gsp.strip_tags, \n",
    "           gsp.strip_punctuation,\n",
    "           gsp.strip_multiple_whitespaces,\n",
    "           gsp.strip_numeric,\n",
    "           gsp.remove_stopwords, \n",
    "           gsp.strip_short, \n",
    "           gsp.stem_text\n",
    "          ]\n",
    "\n",
    "def clean_text(s):\n",
    "    s = s.lower()\n",
    "    s = utils.to_unicode(s)\n",
    "    for f in filters:\n",
    "        s = f(s)\n",
    "    return s"
   ]
  },
  {
   "cell_type": "code",
   "execution_count": 85,
   "metadata": {},
   "outputs": [],
   "source": [
    "def normalize(X):\n",
    "    mean = np.mean(X)\n",
    "    stddev = np.std(X)\n",
    "    return (X - mean) * (1 / stddev)"
   ]
  },
  {
   "cell_type": "markdown",
   "metadata": {},
   "source": [
    "DOC2VEC Transformer"
   ]
  },
  {
   "cell_type": "code",
   "execution_count": 86,
   "metadata": {},
   "outputs": [],
   "source": [
    "class Doc2VecTransformer(BaseEstimator):\n",
    "\n",
    "    def __init__(self, vector_size=100, learning_rate=0.02, epochs=20):\n",
    "        self.learning_rate = learning_rate\n",
    "        self.epochs = epochs\n",
    "        self._model = None\n",
    "        self.vector_size = vector_size\n",
    "        self.workers = multiprocessing.cpu_count() - 1\n",
    "\n",
    "    def fit(self, df_x, df_y=None):\n",
    "        tagged_x = [TaggedDocument(clean_text(remove_emojis(row)).split(), [index]) for index, row in enumerate(df_x)]\n",
    "        model = Doc2Vec(documents=tagged_x, vector_size=self.vector_size, workers=self.workers)\n",
    "\n",
    "        for epoch in range(self.epochs):\n",
    "            model.train(skutils.shuffle([x for x in tqdm(tagged_x)]), total_examples=len(tagged_x), epochs=1)\n",
    "            model.alpha -= self.learning_rate\n",
    "            model.min_alpha = model.alpha\n",
    "\n",
    "        self._model = model\n",
    "        return self\n",
    "\n",
    "    def transform(self, df_x):\n",
    "        return np.asmatrix(np.array([self._model.infer_vector(clean_text(row).split())\n",
    "                                     for index, row in enumerate(df_x)]))"
   ]
  },
  {
   "cell_type": "code",
   "execution_count": 87,
   "metadata": {},
   "outputs": [
    {
     "name": "stderr",
     "output_type": "stream",
     "text": [
      "100%|██████████████████████████████████| 6420/6420 [00:00<00:00, 7178734.12it/s]\n",
      "100%|██████████████████████████████████| 6420/6420 [00:00<00:00, 7025158.28it/s]\n",
      "100%|██████████████████████████████████| 6420/6420 [00:00<00:00, 7038011.42it/s]\n",
      "100%|██████████████████████████████████| 6420/6420 [00:00<00:00, 7403748.06it/s]\n",
      "100%|██████████████████████████████████| 6420/6420 [00:00<00:00, 7422114.58it/s]\n",
      "100%|██████████████████████████████████| 6420/6420 [00:00<00:00, 7069422.86it/s]\n",
      "100%|██████████████████████████████████| 6420/6420 [00:00<00:00, 7377378.54it/s]\n",
      "100%|██████████████████████████████████| 6420/6420 [00:00<00:00, 7023325.95it/s]\n",
      "100%|██████████████████████████████████| 6420/6420 [00:00<00:00, 7021494.57it/s]\n",
      "100%|██████████████████████████████████| 6420/6420 [00:00<00:00, 7045377.21it/s]\n",
      "100%|██████████████████████████████████| 6420/6420 [00:00<00:00, 7101115.95it/s]\n",
      "100%|██████████████████████████████████| 6420/6420 [00:00<00:00, 7069422.86it/s]\n",
      "100%|██████████████████████████████████| 6420/6420 [00:00<00:00, 7389525.71it/s]\n",
      "100%|██████████████████████████████████| 6420/6420 [00:00<00:00, 7411899.72it/s]\n",
      "100%|██████████████████████████████████| 6420/6420 [00:00<00:00, 7008701.63it/s]\n",
      "100%|██████████████████████████████████| 6420/6420 [00:00<00:00, 6879773.04it/s]\n",
      "100%|██████████████████████████████████| 6420/6420 [00:00<00:00, 7415982.29it/s]\n",
      "100%|██████████████████████████████████| 6420/6420 [00:00<00:00, 7071279.33it/s]\n",
      "100%|██████████████████████████████████| 6420/6420 [00:00<00:00, 7008701.63it/s]\n",
      "100%|██████████████████████████████████| 6420/6420 [00:00<00:00, 6822252.77it/s]\n"
     ]
    }
   ],
   "source": [
    "# way to use doc2vec transformer\n",
    "\n",
    "# can i train it on a a  larger corpus ?\n",
    "# look into it.\n",
    "df_x = df['tweet']\n",
    "doc2vec = Doc2VecTransformer(vector_size = 2000)\n",
    "doc2vec_model =  doc2vec.fit(df_x)"
   ]
  },
  {
   "cell_type": "code",
   "execution_count": 88,
   "metadata": {},
   "outputs": [],
   "source": [
    "#for TF-IDF \n",
    "#unigram\n",
    "vectorizer = TfidfVectorizer(ngram_range = (1,1))\n",
    "\n",
    "# # bigram\n",
    "# vectorizer = TfidfVectorizer(ngram_range = (2,2))\n",
    "\n",
    "# # unigram + bigram\n",
    "# vectorizer = TfidfVectorizer(ngram_range = (2,2))\n",
    "\n",
    "\n",
    "#for Count Vectorizer\n",
    "# unigram\n",
    "vectorizer = CountVectorizer(ngram_range = (1,1))\n",
    "\n",
    "\n",
    "# performance has been best for CountVectorizer\n",
    "\n",
    "def dataset(pathname, model = 'TF_IDF', default = 'test', vectorizer = vectorizer):\n",
    "    \n",
    "    \"\"\"\n",
    "    model : TF_IDF or Doc_term or Doc2Vec\n",
    "    default : train or test\n",
    "    \"\"\"\n",
    "    \n",
    "    df = pd.read_csv(pathname)\n",
    "\n",
    "    if(model == 'TF_IDF' or model == 'Doc_term'):\n",
    "        corpus = []\n",
    "        for x in df['tweet']:\n",
    "            corpus.append(clean_text(remove_emojis(x)))\n",
    "        \n",
    "        if(default == 'train'):\n",
    "            X = vectorizer.fit_transform(corpus)\n",
    "        elif(default == 'test'):\n",
    "            X = vectorizer.transform(corpus)\n",
    "        \n",
    "        Y = np.array([1 if y == 'real' else 0 for y in df['label']])\n",
    "        \n",
    "        #print(X.shape, Y.shape)   \n",
    "        return X, Y\n",
    "    \n",
    "    elif(model == 'Doc2Vec'):\n",
    "        if(default == 'train'):\n",
    "            X = doc2vec_model.transform(df['tweet'])\n",
    "        elif(default == 'test'):\n",
    "            X = doc2vec_model.transform(df['tweet'])\n",
    "\n",
    "        Y = [1 if y == 'real' else 0 for y in df['label']]\n",
    "        \n",
    "        pca = PCA(n_components=500)\n",
    "        X = pca.fit_transform(X)\n",
    "        print(X.shape)      \n",
    "        return X, Y\n",
    "        \n",
    "        "
   ]
  },
  {
   "cell_type": "markdown",
   "metadata": {},
   "source": [
    "# Doc2Vec features"
   ]
  },
  {
   "cell_type": "code",
   "execution_count": 89,
   "metadata": {},
   "outputs": [
    {
     "name": "stderr",
     "output_type": "stream",
     "text": [
      "/Users/sanjayplal/Library/Python/3.8/lib/python/site-packages/sklearn/utils/validation.py:593: FutureWarning: np.matrix usage is deprecated in 1.0 and will raise a TypeError in 1.2. Please convert to a numpy array with np.asarray. For more information see: https://numpy.org/doc/stable/reference/generated/numpy.matrix.html\n",
      "  warnings.warn(\n"
     ]
    },
    {
     "name": "stdout",
     "output_type": "stream",
     "text": [
      "(6420, 500)\n"
     ]
    }
   ],
   "source": [
    "X_train, Y_train = dataset(Train_csv , model = 'Doc2Vec', default = 'train')"
   ]
  },
  {
   "cell_type": "code",
   "execution_count": 90,
   "metadata": {},
   "outputs": [],
   "source": [
    "from sklearn.linear_model import LogisticRegression"
   ]
  },
  {
   "cell_type": "code",
   "execution_count": 91,
   "metadata": {},
   "outputs": [],
   "source": [
    "clf = LogisticRegression(random_state=0).fit(X_train, Y_train)"
   ]
  },
  {
   "cell_type": "code",
   "execution_count": 92,
   "metadata": {},
   "outputs": [],
   "source": [
    "y_pred = [int(clf.predict(X_train[i, :].reshape(1, -1))) for i in range(6420)]"
   ]
  },
  {
   "cell_type": "code",
   "execution_count": 93,
   "metadata": {},
   "outputs": [],
   "source": [
    "def accuracy(Y, y):\n",
    "    acc = 0\n",
    "    for i in range(len(Y)):\n",
    "        if Y[i] == y[i]:\n",
    "            acc +=1\n",
    "    return acc/len(Y)\n",
    "            "
   ]
  },
  {
   "cell_type": "code",
   "execution_count": 94,
   "metadata": {},
   "outputs": [
    {
     "data": {
      "text/plain": [
       "0.5336448598130841"
      ]
     },
     "execution_count": 94,
     "metadata": {},
     "output_type": "execute_result"
    }
   ],
   "source": [
    "accuracy(Y_train, y_pred)"
   ]
  },
  {
   "cell_type": "code",
   "execution_count": 95,
   "metadata": {},
   "outputs": [
    {
     "name": "stderr",
     "output_type": "stream",
     "text": [
      "/Users/sanjayplal/Library/Python/3.8/lib/python/site-packages/sklearn/utils/validation.py:593: FutureWarning: np.matrix usage is deprecated in 1.0 and will raise a TypeError in 1.2. Please convert to a numpy array with np.asarray. For more information see: https://numpy.org/doc/stable/reference/generated/numpy.matrix.html\n",
      "  warnings.warn(\n"
     ]
    },
    {
     "name": "stdout",
     "output_type": "stream",
     "text": [
      "(2140, 500)\n"
     ]
    }
   ],
   "source": [
    "X_test, y_test =  dataset(Test_csv, model = 'Doc2Vec' , default = 'test')"
   ]
  },
  {
   "cell_type": "code",
   "execution_count": 96,
   "metadata": {},
   "outputs": [],
   "source": [
    "ytest_pred = [int(clf.predict(X_test[i, :].reshape(1, -1))) for i in range(len(X_test))]"
   ]
  },
  {
   "cell_type": "code",
   "execution_count": 97,
   "metadata": {},
   "outputs": [
    {
     "data": {
      "text/plain": [
       "0.530373831775701"
      ]
     },
     "execution_count": 97,
     "metadata": {},
     "output_type": "execute_result"
    }
   ],
   "source": [
    "accuracy(y_test, ytest_pred)"
   ]
  },
  {
   "cell_type": "markdown",
   "metadata": {},
   "source": [
    "# Logistic Regression"
   ]
  },
  {
   "cell_type": "code",
   "execution_count": 98,
   "metadata": {},
   "outputs": [],
   "source": [
    "X_train, Y_train = dataset(Train_csv , model = 'TF_IDF', default = 'train')\n",
    "X_test, Y_test =  dataset(Val_csv, model = 'TF_IDF' , default = 'test')"
   ]
  },
  {
   "cell_type": "code",
   "execution_count": 99,
   "metadata": {},
   "outputs": [],
   "source": [
    "from sklearn.linear_model import LogisticRegression\n",
    "clf = LogisticRegression(random_state=0).fit(X_train, Y_train)\n",
    "y_pred = [int(clf.predict(X_train[i, :].reshape(1, -1))) for i in range(6420)]"
   ]
  },
  {
   "cell_type": "code",
   "execution_count": 100,
   "metadata": {},
   "outputs": [
    {
     "data": {
      "text/plain": [
       "0.9947040498442368"
      ]
     },
     "execution_count": 100,
     "metadata": {},
     "output_type": "execute_result"
    }
   ],
   "source": [
    "# training accuracy\n",
    "accuracy(Y_train, y_pred)"
   ]
  },
  {
   "cell_type": "code",
   "execution_count": 101,
   "metadata": {},
   "outputs": [
    {
     "data": {
      "text/plain": [
       "0.9219626168224299"
      ]
     },
     "execution_count": 101,
     "metadata": {},
     "output_type": "execute_result"
    }
   ],
   "source": [
    "ytest_pred = [int(clf.predict(X_test[i, :].reshape(1, -1))) for i in range(2140)]\n",
    "accuracy(Y_test, ytest_pred)"
   ]
  },
  {
   "cell_type": "code",
   "execution_count": 102,
   "metadata": {},
   "outputs": [],
   "source": [
    "#tune hyperparameters"
   ]
  },
  {
   "cell_type": "markdown",
   "metadata": {},
   "source": [
    "# Random Forest"
   ]
  },
  {
   "cell_type": "code",
   "execution_count": 103,
   "metadata": {},
   "outputs": [],
   "source": [
    "from sklearn.ensemble import RandomForestClassifier as rfc\n",
    "\n",
    "# rfc will take huge time to converge for so many features, may be truncated SVD to decrease number of features\n",
    "# tune hyper-parameters to improve test accuracy\n",
    "RFC = rfc(random_state=0).fit(X_train, Y_train)\n",
    "y_pred = [int(RFC.predict(X_train[i, :].reshape(1, -1))) for i in range(6420)]"
   ]
  },
  {
   "cell_type": "code",
   "execution_count": 104,
   "metadata": {},
   "outputs": [
    {
     "data": {
      "text/plain": [
       "1.0"
      ]
     },
     "execution_count": 104,
     "metadata": {},
     "output_type": "execute_result"
    }
   ],
   "source": [
    "# training accuracy\n",
    "# overfitting clearly !, anyway expected\n",
    "accuracy(Y_train, y_pred)"
   ]
  },
  {
   "cell_type": "code",
   "execution_count": 105,
   "metadata": {},
   "outputs": [
    {
     "data": {
      "text/plain": [
       "0.922429906542056"
      ]
     },
     "execution_count": 105,
     "metadata": {},
     "output_type": "execute_result"
    }
   ],
   "source": [
    "ytest_pred = [int(RFC.predict(X_test[i, :].reshape(1, -1))) for i in range(2140)]\n",
    "accuracy(Y_test, ytest_pred)"
   ]
  },
  {
   "cell_type": "markdown",
   "metadata": {},
   "source": [
    "Grid Search for Random Forest"
   ]
  },
  {
   "cell_type": "code",
   "execution_count": 106,
   "metadata": {},
   "outputs": [],
   "source": [
    "from sklearn.model_selection import GridSearchCV\n",
    "param_grid = {\n",
    "    'bootstrap': [True],\n",
    "    'max_depth': [80, 90, 100, 110],\n",
    "    'max_features': [2, 3],\n",
    "    'min_samples_leaf': [3, 4, 5],\n",
    "    'min_samples_split': [8, 10, 12],\n",
    "    'n_estimators': [100, 200, 300, 1000]\n",
    "}\n",
    "# Create a based model\n",
    "rf = rfc()\n",
    "# Instantiate the grid search model\n",
    "grid_search = GridSearchCV(estimator = rf, param_grid = param_grid, \n",
    "                          cv = 3, n_jobs = -1, verbose = 2)"
   ]
  },
  {
   "cell_type": "code",
   "execution_count": 107,
   "metadata": {},
   "outputs": [
    {
     "name": "stdout",
     "output_type": "stream",
     "text": [
      "Fitting 3 folds for each of 288 candidates, totalling 864 fits\n"
     ]
    },
    {
     "data": {
      "text/plain": [
       "GridSearchCV(cv=3, estimator=RandomForestClassifier(), n_jobs=-1,\n",
       "             param_grid={'bootstrap': [True], 'max_depth': [80, 90, 100, 110],\n",
       "                         'max_features': [2, 3], 'min_samples_leaf': [3, 4, 5],\n",
       "                         'min_samples_split': [8, 10, 12],\n",
       "                         'n_estimators': [100, 200, 300, 1000]},\n",
       "             verbose=2)"
      ]
     },
     "execution_count": 107,
     "metadata": {},
     "output_type": "execute_result"
    }
   ],
   "source": [
    "grid_search.fit(X_train, Y_train)"
   ]
  },
  {
   "cell_type": "code",
   "execution_count": 108,
   "metadata": {},
   "outputs": [],
   "source": [
    "grid_search.best_params_\n",
    "best_grid = grid_search.best_estimator_\n"
   ]
  },
  {
   "cell_type": "code",
   "execution_count": 109,
   "metadata": {
    "scrolled": false
   },
   "outputs": [],
   "source": [
    "y_pred = [int(best_grid.predict(X_train[i, :].reshape(1, -1))) for i in range(6420)]"
   ]
  },
  {
   "cell_type": "code",
   "execution_count": 110,
   "metadata": {},
   "outputs": [
    {
     "data": {
      "text/plain": [
       "0.5233644859813084"
      ]
     },
     "execution_count": 110,
     "metadata": {},
     "output_type": "execute_result"
    }
   ],
   "source": [
    "accuracy(Y_train, y_pred)"
   ]
  },
  {
   "cell_type": "code",
   "execution_count": null,
   "metadata": {},
   "outputs": [],
   "source": []
  },
  {
   "cell_type": "markdown",
   "metadata": {},
   "source": [
    "# SVMs using various kernels"
   ]
  },
  {
   "cell_type": "code",
   "execution_count": 134,
   "metadata": {},
   "outputs": [
    {
     "name": "stdout",
     "output_type": "stream",
     "text": [
      "0.979595015576324\n",
      "0.9186915887850468\n",
      "\n",
      "0.9998442367601246\n",
      "0.8504672897196262\n",
      "\n",
      "0.577570093457944\n",
      "0.5985981308411215\n",
      "\n",
      "0.5233644859813084\n",
      "0.5233644859813084\n"
     ]
    }
   ],
   "source": [
    "X_train, Y_train = dataset(Train_csv , model = 'TF_IDF', default = 'train')\n",
    "X_test, y_test =  dataset(Test_csv, model = 'TF_IDF' , default = 'test')\n",
    "\n",
    "# To calculate the accuracy score of the model\n",
    "from sklearn.metrics import accuracy_score, confusion_matrix\n",
    "from sklearn.svm import SVC\n",
    "  \n",
    "# Building a Support Vector Machine on train data\n",
    "svc_model = SVC(C= .1, kernel='linear', gamma= 1)\n",
    "svc_model.fit(X_train, Y_train)\n",
    "  \n",
    "prediction = svc_model .predict(X_test)\n",
    "# check the accuracy on the training set\n",
    "print(svc_model.score(X_train, Y_train))\n",
    "print(svc_model.score(X_test, y_test))\n",
    "\n",
    "print(\"\")\n",
    "\n",
    "svc_model = SVC(C= .1, kernel='poly', gamma= 1)\n",
    "svc_model.fit(X_train, Y_train)\n",
    "  \n",
    "prediction = svc_model .predict(X_test)\n",
    "# check the accuracy on the training set\n",
    "print(svc_model.score(X_train, Y_train))\n",
    "print(svc_model.score(X_test, y_test))\n",
    "\n",
    "print(\"\")\n",
    "\n",
    "\n",
    "svc_model = SVC(C= .1, kernel='sigmoid', gamma= 1)\n",
    "svc_model.fit(X_train, Y_train)\n",
    "  \n",
    "prediction = svc_model .predict(X_test)\n",
    "# check the accuracy on the training set\n",
    "print(svc_model.score(X_train, Y_train))\n",
    "print(svc_model.score(X_test, y_test))\n",
    "\n",
    "print(\"\")\n",
    "\n",
    "\n",
    "\n",
    "svc_model = SVC(C= .1, kernel='rbf', gamma= 1)\n",
    "svc_model.fit(X_train, Y_train)\n",
    "  \n",
    "prediction = svc_model .predict(X_test)\n",
    "# check the accuracy on the training set\n",
    "print(svc_model.score(X_train, Y_train))\n",
    "print(svc_model.score(X_test, y_test))"
   ]
  },
  {
   "cell_type": "markdown",
   "metadata": {},
   "source": [
    "# Naive Bayes"
   ]
  },
  {
   "cell_type": "code",
   "execution_count": 137,
   "metadata": {},
   "outputs": [
    {
     "name": "stderr",
     "output_type": "stream",
     "text": [
      "/Users/sanjayplal/Library/Python/3.8/lib/python/site-packages/sklearn/utils/validation.py:593: FutureWarning: np.matrix usage is deprecated in 1.0 and will raise a TypeError in 1.2. Please convert to a numpy array with np.asarray. For more information see: https://numpy.org/doc/stable/reference/generated/numpy.matrix.html\n",
      "  warnings.warn(\n"
     ]
    },
    {
     "name": "stdout",
     "output_type": "stream",
     "text": [
      "(6420, 500)\n"
     ]
    },
    {
     "name": "stderr",
     "output_type": "stream",
     "text": [
      "/Users/sanjayplal/Library/Python/3.8/lib/python/site-packages/sklearn/utils/validation.py:593: FutureWarning: np.matrix usage is deprecated in 1.0 and will raise a TypeError in 1.2. Please convert to a numpy array with np.asarray. For more information see: https://numpy.org/doc/stable/reference/generated/numpy.matrix.html\n",
      "  warnings.warn(\n"
     ]
    },
    {
     "name": "stdout",
     "output_type": "stream",
     "text": [
      "(2140, 500)\n",
      "Gaussian Naive Bayes model accuracy(in %): 52.196261682243\n"
     ]
    }
   ],
   "source": [
    "from sklearn.naive_bayes import GaussianNB\n",
    "\n",
    "X_train, Y_train = dataset(Train_csv , model = 'Doc2Vec', default = 'train')\n",
    "X_test, y_test =  dataset(Test_csv, model = 'Doc2Vec' , default = 'test')\n",
    "\n",
    "\n",
    "\n",
    "gnb = GaussianNB()\n",
    "gnb.fit(X_train, Y_train)\n",
    "\n",
    "y_pred = gnb.predict(X_test)\n",
    "\n",
    "from sklearn import metrics\n",
    "print(\"Gaussian Naive Bayes model accuracy(in %):\", metrics.accuracy_score(y_test, y_pred)*100)"
   ]
  },
  {
   "cell_type": "markdown",
   "metadata": {},
   "source": [
    "# XGBOOST"
   ]
  },
  {
   "cell_type": "code",
   "execution_count": 113,
   "metadata": {},
   "outputs": [
    {
     "name": "stderr",
     "output_type": "stream",
     "text": [
      "/Users/sanjayplal/Library/Python/3.8/lib/python/site-packages/xgboost/compat.py:36: FutureWarning: pandas.Int64Index is deprecated and will be removed from pandas in a future version. Use pandas.Index with the appropriate dtype instead.\n",
      "  from pandas import MultiIndex, Int64Index\n",
      "/Users/sanjayplal/Library/Python/3.8/lib/python/site-packages/xgboost/sklearn.py:1224: UserWarning: The use of label encoder in XGBClassifier is deprecated and will be removed in a future release. To remove this warning, do the following: 1) Pass option use_label_encoder=False when constructing XGBClassifier object; and 2) Encode your labels (y) as integers starting with 0, i.e. 0, 1, 2, ..., [num_class - 1].\n",
      "  warnings.warn(label_encoder_deprecation_msg, UserWarning)\n"
     ]
    },
    {
     "name": "stdout",
     "output_type": "stream",
     "text": [
      "[18:58:38] WARNING: /private/var/folders/dd/vfnx3x1x2bvbyk9k4dgpt0jh0000gn/T/pip-install-vrjewc2s/xgboost_8ad6969816624dd090253f6dcc8e8fd5/build/temp.macosx-10.14-arm64-3.8/xgboost/src/learner.cc:1115: Starting in XGBoost 1.3.0, the default evaluation metric used with the objective 'binary:logistic' was changed from 'error' to 'logloss'. Explicitly set eval_metric if you'd like to restore the old behavior.\n"
     ]
    }
   ],
   "source": [
    "import xgboost as xgb\n",
    "xgb1 = xgb.XGBClassifier(\n",
    " learning_rate =0.1,\n",
    " n_estimators=1000,\n",
    " max_depth=5,\n",
    " min_child_weight=1,\n",
    " gamma=0,\n",
    " subsample=0.8,\n",
    " colsample_bytree=0.8,\n",
    " objective= 'logloss',\n",
    " nthread=4,\n",
    " scale_pos_weight=1,\n",
    " seed=27)\n",
    "\n",
    "\n",
    "xgb1 = xgb.XGBClassifier()\n",
    "\n",
    "xgbmodel = xgb1.fit(X_train, Y_train)\n",
    "y_pred = [int(xgbmodel.predict(X_train[i, :].reshape(1, -1))) for i in range(6420)]\n"
   ]
  },
  {
   "cell_type": "code",
   "execution_count": 114,
   "metadata": {},
   "outputs": [
    {
     "data": {
      "text/plain": [
       "1.0"
      ]
     },
     "execution_count": 114,
     "metadata": {},
     "output_type": "execute_result"
    }
   ],
   "source": [
    "# training accuracy\n",
    "accuracy(Y_train, y_pred)"
   ]
  },
  {
   "cell_type": "code",
   "execution_count": 115,
   "metadata": {},
   "outputs": [
    {
     "data": {
      "text/plain": [
       "0.5112149532710281"
      ]
     },
     "execution_count": 115,
     "metadata": {},
     "output_type": "execute_result"
    }
   ],
   "source": [
    "ytest_pred = [int(xgbmodel.predict(X_test[i, :].reshape(1, -1))) for i in range(2140)]\n",
    "accuracy(Y_test, ytest_pred)"
   ]
  },
  {
   "cell_type": "code",
   "execution_count": null,
   "metadata": {},
   "outputs": [],
   "source": []
  },
  {
   "cell_type": "markdown",
   "metadata": {},
   "source": [
    "# MLPs (ANN)"
   ]
  },
  {
   "cell_type": "code",
   "execution_count": 116,
   "metadata": {},
   "outputs": [],
   "source": [
    "from sklearn.neural_network import MLPClassifier\n",
    "mlp = MLPClassifier(hidden_layer_sizes = (128, 64) , random_state = 1,  max_iter = 300, learning_rate = 'adaptive')"
   ]
  },
  {
   "cell_type": "code",
   "execution_count": 117,
   "metadata": {},
   "outputs": [
    {
     "name": "stderr",
     "output_type": "stream",
     "text": [
      "/Users/sanjayplal/Library/Python/3.8/lib/python/site-packages/sklearn/neural_network/_multilayer_perceptron.py:692: ConvergenceWarning: Stochastic Optimizer: Maximum iterations (300) reached and the optimization hasn't converged yet.\n",
      "  warnings.warn(\n"
     ]
    }
   ],
   "source": [
    "mlpmodel = mlp.fit(X_train, Y_train)\n",
    "y_pred = [int(mlpmodel.predict(X_train[i, :].reshape(1, -1))) for i in range(6420)]"
   ]
  },
  {
   "cell_type": "code",
   "execution_count": 118,
   "metadata": {},
   "outputs": [
    {
     "data": {
      "text/plain": [
       "0.7182242990654205"
      ]
     },
     "execution_count": 118,
     "metadata": {},
     "output_type": "execute_result"
    }
   ],
   "source": [
    "# training accuracy\n",
    "accuracy(Y_train, y_pred)"
   ]
  },
  {
   "cell_type": "code",
   "execution_count": 119,
   "metadata": {},
   "outputs": [
    {
     "data": {
      "text/plain": [
       "0.5037383177570094"
      ]
     },
     "execution_count": 119,
     "metadata": {},
     "output_type": "execute_result"
    }
   ],
   "source": [
    "ytest_pred = [int(mlpmodel.predict(X_test[i, :].reshape(1, -1))) for i in range(2140)]\n",
    "accuracy(Y_test, ytest_pred)"
   ]
  },
  {
   "cell_type": "markdown",
   "metadata": {},
   "source": [
    "Look into RNNs and CNNS"
   ]
  },
  {
   "cell_type": "markdown",
   "metadata": {},
   "source": [
    "# KNN"
   ]
  },
  {
   "cell_type": "code",
   "execution_count": 136,
   "metadata": {},
   "outputs": [
    {
     "name": "stdout",
     "output_type": "stream",
     "text": [
      "For neighbours  1\n",
      "0.775233644859813\n",
      "\n",
      "For neighbours  2\n",
      "0.7210280373831776\n",
      "\n",
      "For neighbours  3\n",
      "0.7691588785046729\n",
      "\n",
      "For neighbours  4\n",
      "0.7429906542056075\n",
      "\n",
      "For neighbours  5\n",
      "0.766822429906542\n",
      "\n",
      "For neighbours  6\n",
      "0.7509345794392523\n",
      "\n",
      "For neighbours  7\n",
      "0.7551401869158878\n",
      "\n",
      "For neighbours  8\n",
      "0.7397196261682243\n",
      "\n"
     ]
    },
    {
     "data": {
      "image/png": "[encoded data removed]",
      "text/plain": [
       "<Figure size 432x288 with 1 Axes>"
      ]
     },
     "metadata": {
      "needs_background": "light"
     },
     "output_type": "display_data"
    }
   ],
   "source": [
    "# Import necessary modules\n",
    "from sklearn.neighbors import KNeighborsClassifier\n",
    "import matplotlib.pyplot as plt\n",
    "\n",
    "X_train, Y_train = dataset(Train_csv , model = 'TF_IDF', default = 'train')\n",
    "X_test, y_test =  dataset(Test_csv, model = 'TF_IDF' , default = 'test')\n",
    "\n",
    "neighbors = np.arange(1, 9)\n",
    "train_accuracy = np.empty(len(neighbors))\n",
    "test_accuracy = np.empty(len(neighbors))\n",
    "\n",
    "# Loop over K values\n",
    "for i, k in enumerate(neighbors):\n",
    "    knn = KNeighborsClassifier(n_neighbors=k)\n",
    "    knn.fit(X_train, Y_train)\n",
    "    print(\"For neighbours \", k)\n",
    "    print(knn.score(X_test, y_test))\n",
    "    print(\"\")\n",
    "     \n",
    "    # Compute training and test data accuracy\n",
    "    train_accuracy[i] = knn.score(X_train, Y_train)\n",
    "    test_accuracy[i] = knn.score(X_test, y_test)\n",
    " \n",
    "# Generate plot\n",
    "plt.plot(neighbors, test_accuracy, label = 'Testing dataset Accuracy')\n",
    "plt.plot(neighbors, train_accuracy, label = 'Training dataset Accuracy')\n",
    " \n",
    "plt.legend()\n",
    "plt.xlabel('n_neighbors')\n",
    "plt.ylabel('Accuracy')\n",
    "plt.show()"
   ]
  },
  {
   "cell_type": "code",
   "execution_count": null,
   "metadata": {},
   "outputs": [],
   "source": []
  }
 ],
 "metadata": {
  "kernelspec": {
   "display_name": "Python 3 (ipykernel)",
   "language": "python",
   "name": "python3"
  },
  "language_info": {
   "codemirror_mode": {
    "name": "ipython",
    "version": 3
   },
   "file_extension": ".py",
   "mimetype": "text/x-python",
   "name": "python",
   "nbconvert_exporter": "python",
   "pygments_lexer": "ipython3",
   "version": "3.8.9"
  }
 },
 "nbformat": 4,
 "nbformat_minor": 4
}
